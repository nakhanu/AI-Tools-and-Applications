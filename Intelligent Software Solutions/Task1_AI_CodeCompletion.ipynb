{
  "nbformat": 4,
  "nbformat_minor": 0,
  "metadata": {
    "colab": {
      "provenance": []
    },
    "kernelspec": {
      "name": "python3",
      "display_name": "Python 3"
    },
    "language_info": {
      "name": "python"
    }
  },
  "cells": [
    {
      "cell_type": "code",
      "execution_count": 1,
      "metadata": {
        "colab": {
          "base_uri": "https://localhost:8080/"
        },
        "id": "_pnIe2y3xP1m",
        "outputId": "648dd529-c44b-4853-cb42-c9e25fe5ca5f"
      },
      "outputs": [
        {
          "output_type": "stream",
          "name": "stdout",
          "text": [
            "Manual Sorted: [{'name': 'Alice', 'age': 20}, {'name': 'Charlie', 'age': 22}, {'name': 'Bob', 'age': 30}]\n"
          ]
        }
      ],
      "source": [
        "def sort_by_key(data_list, sort_key):\n",
        "  \"\"\"Sorts a list of dictionaries by a specific key.\n",
        "\n",
        "  Args:\n",
        "    data_list: The list of dictionaries to sort.\n",
        "    sort_key: The key to sort by.\n",
        "\n",
        "  Returns:\n",
        "    A new list of dictionaries sorted by the specified key.\n",
        "  \"\"\"\n",
        "  return sorted (data_list, key=lambda x: x[sort_key])\n",
        "\n",
        "# The function sort_by_key sorts a list of dictionaries by a specific key.\n",
        "# It uses the built-in sorted() function with a lambda function as the key to\n",
        "# specify which element of the dictionary to use for sorting."
      ]
    }
  ]
}