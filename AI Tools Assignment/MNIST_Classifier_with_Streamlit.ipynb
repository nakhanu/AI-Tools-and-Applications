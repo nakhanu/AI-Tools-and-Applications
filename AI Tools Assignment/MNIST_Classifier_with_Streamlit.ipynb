{
  "nbformat": 4,
  "nbformat_minor": 0,
  "metadata": {
    "colab": {
      "provenance": []
    },
    "kernelspec": {
      "name": "python3",
      "display_name": "Python 3"
    },
    "language_info": {
      "name": "python"
    }
  },
  "cells": [
    {
      "cell_type": "code",
      "execution_count": null,
      "metadata": {
        "id": "NYJlG-t7I_pe"
      },
      "outputs": [],
      "source": []
    },
    {
      "cell_type": "markdown",
      "source": [
        "🎁 Bonus Task: Deploy MNIST Classifier with Streamlit\n",
        "🚀 What We'll Do\n",
        "Load your trained MNIST model.\n",
        "\n",
        "Let users draw/upload a digit image.\n",
        "\n",
        "Preprocess it.\n",
        "\n",
        "Predict the digit.\n",
        "\n",
        "Show the result live on the web.\n",
        "\n",
        "📁 1. Project Structure (Recommended)\n",
        "\n",
        "mnist_streamlit_app/\n",
        "│\n",
        "├── mnist_model.h5            # Your trained Keras model\n",
        "├── app.py                    # Streamlit app\n",
        "├── requirements.txt          # Python dependencies\n",
        "📜 2. app.py – Streamlit App Code\n",
        "python\n",
        "\n",
        "import streamlit as st\n",
        "import numpy as np\n",
        "import tensorflow as tf\n",
        "from PIL import Image, ImageOps\n",
        "\n",
        "# Load model\n",
        "model = tf.keras.models.load_model('mnist_model.h5')\n",
        "\n",
        "st.title(\"🧠 MNIST Digit Classifier\")\n",
        "st.write(\"Upload a 28x28 image of a handwritten digit and get a prediction.\")\n",
        "\n",
        "uploaded_file = st.file_uploader(\"Choose an image...\", type=\"png\")\n",
        "\n",
        "if uploaded_file is not None:\n",
        "    image = Image.open(uploaded_file).convert(\"L\")  # Convert to grayscale\n",
        "    st.image(image, caption=\"Uploaded Image\", use_column_width=True)\n",
        "\n",
        "    # Preprocess image\n",
        "    img = ImageOps.invert(image)  # Invert (white background, black digit)\n",
        "    img = img.resize((28, 28))\n",
        "    img_array = np.array(img) / 255.0\n",
        "    img_array = img_array.reshape(1, 28, 28)\n",
        "\n",
        "    if st.button(\"Predict\"):\n",
        "        prediction = np.argmax(model.predict(img_array), axis=-1)\n",
        "        st.success(f\"Predicted Digit: {prediction[0]}\")\n",
        "📦 3. requirements.txt\n",
        "\n",
        "streamlit\n",
        "tensorflow\n",
        "pillow\n",
        "🔧 4. How to Run Locally (or Share with Instructor)\n",
        "✅ Locally (in terminal):\n",
        "\n",
        "cd mnist_streamlit_app\n",
        "streamlit run app.py"
      ],
      "metadata": {
        "id": "Fqa7ZhQ4JClF"
      }
    }
  ]
}