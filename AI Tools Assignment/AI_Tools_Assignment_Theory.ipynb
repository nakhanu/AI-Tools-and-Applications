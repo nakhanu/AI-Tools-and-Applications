{
  "cells": [
    {
      "cell_type": "code",
      "execution_count": null,
      "id": "5ac42250-fcc2-4939-827e-e24fd5fad14a",
      "metadata": {
        "trusted": true
      },
      "outputs": [],
      "source": [
        "# AI Tools & Applications Assignment  \n",
        "**Theme**: Mastering the AI Toolkit 🛠️🧠  \n",
        "**Group Members**: Sophia Nakhanu  \n",
        "**Date**: 18/6/2025\n",
        "\n",
        "---\n",
        "\n",
        "## Part 1: Theoretical Understanding\n",
        "\n",
        "---\n",
        "\n",
        "### Q1: Explain the primary differences between TensorFlow and PyTorch. When would you choose one over the other?\n",
        "\n",
        "**TensorFlow** and **PyTorch** are two leading frameworks for deep learning, each with its strengths:\n",
        "\n",
        "| Feature                | TensorFlow                          | PyTorch                              |\n",
        "|------------------------|--------------------------------------|---------------------------------------|\n",
        "| **Computation Style** | Static Graph (computations defined before runtime using `tf.Graph`) | Dynamic Graph (eager execution; computations happen as code runs) |\n",
        "| **Ease of Debugging** | Less intuitive; requires graph inspection tools | Intuitive; uses Pythonic debugging tools |\n",
        "| **Deployment**        | Strong deployment tools (TF Serving, TF Lite, TF.js) | Supports deployment with TorchServe and ONNX |\n",
        "| **Community**         | Backed by Google, strong industrial use | Strong in academia and research community |\n",
        "| **API Design**        | More verbose and structured          | Cleaner and easier for beginners      |\n",
        "\n",
        "**When to choose:**\n",
        "- Use **TensorFlow** for production, mobile/web deployment, or when using TensorFlow ecosystem tools.\n",
        "- Use **PyTorch** for rapid prototyping, experimentation, and academic research.\n",
        "\n",
        "---\n",
        "\n",
        "### Q2: Describe two use cases for Jupyter Notebooks in AI development.\n",
        "\n",
        "1. **Exploratory Data Analysis (EDA):**  \n",
        "   Jupyter Notebooks allow interactive exploration of datasets using visualizations (e.g., via Matplotlib or Seaborn) and descriptive statistics. This helps in identifying trends, outliers, and patterns before model development.\n",
        "\n",
        "2. **Model Prototyping and Experimentation:**  \n",
        "   Developers can write, test, and visualize machine learning models step by step. Results like training curves, confusion matrices, and model predictions can be visualized inline, making experimentation easier and more insightful.\n",
        "\n",
        "---\n",
        "\n",
        "### Q3: How does spaCy enhance NLP tasks compared to basic Python string operations?\n",
        "\n",
        "Basic Python string methods (e.g., `.split()`, `.find()`, `.replace()`) are useful for simple tasks but lack linguistic intelligence.\n",
        "\n",
        "**spaCy** enhances NLP tasks by offering:\n",
        "- **Tokenization** that respects grammar and punctuation.\n",
        "- **Part-of-speech tagging**, **dependency parsing**, and **named entity recognition (NER)** for understanding sentence structure.\n",
        "- **Pre-trained language models** that recognize the context of words.\n",
        "- **Efficient pipeline** for processing large text corpora quickly and accurately.\n",
        "\n",
        "Thus, spaCy transforms raw text into structured, contextual data suitable for NLP applications.\n",
        "\n",
        "---\n",
        "\n",
        "### Q4: Compare Scikit-learn and TensorFlow in terms of:\n",
        "\n",
        "| Criteria              | Scikit-learn                         | TensorFlow                          |\n",
        "|-----------------------|---------------------------------------|--------------------------------------|\n",
        "| **Target Applications** | Classical ML (e.g., regression, classification, clustering) | Deep Learning (e.g., CNNs, RNNs, GANs) |\n",
        "| **Ease of Use**       | Beginner-friendly, simple API         | More complex, especially for beginners |\n",
        "| **Community Support** | Strong, with extensive documentation and examples | Also strong, with deep integration in Google's ecosystem and cloud tools |\n",
        "\n",
        "**Summary:**  \n",
        "Use **Scikit-learn** for traditional ML algorithms and simpler workflows.  \n",
        "Use **TensorFlow** for building and deploying deep learning models at scale.\n",
        "\n",
        "---\n",
        "\n"
      ]
    },
    {
      "cell_type": "code",
      "execution_count": null,
      "id": "4f1b1c44-5876-4978-a7df-49a3f12ea2c3",
      "metadata": {
        "trusted": true
      },
      "outputs": [],
      "source": [
        "#Part 2: Practical Implementation\n"
      ]
    }
  ],
  "metadata": {
    "kernelspec": {
      "display_name": "Python (Pyodide)",
      "language": "python",
      "name": "python"
    },
    "language_info": {
      "codemirror_mode": {
        "name": "python",
        "version": 3
      },
      "file_extension": ".py",
      "mimetype": "text/x-python",
      "name": "python",
      "nbconvert_exporter": "python",
      "pygments_lexer": "ipython3",
      "version": "3.8"
    }
  },
  "nbformat": 4,
  "nbformat_minor": 5
}
